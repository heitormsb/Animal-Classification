{
    "cells": [
        {
            "cell_type": "code",
            "execution_count": 1,
            "source": [
                "from os import listdir\r\n",
                "from os.path import isdir\r\n",
                "from PIL import Image\r\n",
                "import numpy as np\r\n",
                "import matplotlib.pyplot as plt\r\n",
                "import matplotlib.image as mpimg\r\n",
                "from sklearn import preprocessing"
            ],
            "outputs": [],
            "metadata": {}
        },
        {
            "cell_type": "markdown",
            "source": [
                "Tratamento de dados"
            ],
            "metadata": {}
        },
        {
            "cell_type": "code",
            "execution_count": 2,
            "source": [
                "def select_image(path):\r\n",
                "  image = Image.open(path)\r\n",
                "  image = image.convert(\"RGB\")\r\n",
                "  image = image.resize((100,100))\r\n",
                "  # print(path)\r\n",
                "  return np.asarray(image) #Transforma imagem em um array"
            ],
            "outputs": [],
            "metadata": {}
        },
        {
            "cell_type": "code",
            "execution_count": 3,
            "source": [
                "def load_classes(diretorio, classe, imagens, labels):\r\n",
                "\r\n",
                "  #Listar todo os arquivos dentro do diretorio(ex.\"training_set\\\\cats\")\r\n",
                "  for filename in listdir(diretorio): \r\n",
                "    path = diretorio + filename\r\n",
                "    # print(path)\r\n",
                "\r\n",
                "    try:\r\n",
                "      imagens.append(select_image(path)) #Normalizar a imagem e juntar na Lista\r\n",
                "      labels.append(classe)\r\n",
                "    except:\r\n",
                "      print(f\"!!!Nao foi possivel carregar a imagem {path}!!!\")\r\n",
                "      \r\n",
                "  return imagens, labels"
            ],
            "outputs": [],
            "metadata": {}
        },
        {
            "cell_type": "code",
            "execution_count": 4,
            "source": [
                "def select_data_set(diretorio):\r\n",
                "\r\n",
                "  imagens = list()\r\n",
                "  labels = list()\r\n",
                "\r\n",
                "  #listar por subdiretorios dentro de diretorio(ex.\"training_set\\\\\")\r\n",
                "  for subdir in listdir(diretorio):\r\n",
                "    path = diretorio + subdir + '\\\\' \r\n",
                "    if not isdir(path):\r\n",
                "      print(f\"{path} is not directory\")\r\n",
                "      continue\r\n",
                "\r\n",
                "    imagens, labels = load_classes(path, subdir, imagens, labels) #Carregar classes de determinada pasta\r\n",
                "  \r\n",
                "\r\n",
                "  return imagens, labels\r\n"
            ],
            "outputs": [],
            "metadata": {}
        },
        {
            "cell_type": "code",
            "execution_count": 5,
            "source": [
                "def viewData(imagens, labels):\r\n",
                "\r\n",
                "  plt.figure(figsize=(10,10))\r\n",
                "  grid_size = min(250, len(imagens))\r\n",
                "\r\n",
                "  for i in range(grid_size):\r\n",
                "\r\n",
                "    plt.subplot(50, 5, i+1)\r\n",
                "    plt.xticks([])\r\n",
                "    plt.yticks([])\r\n",
                "    plt.grid(False)\r\n",
                "    plt.imshow(imagens[i*20], cmap=plt.cm.binary)\r\n",
                "    plt.xlabel(labels[i*20])"
            ],
            "outputs": [],
            "metadata": {}
        },
        {
            "cell_type": "markdown",
            "source": [
                "Carregar dataset e labels"
            ],
            "metadata": {}
        },
        {
            "cell_type": "code",
            "execution_count": 6,
            "source": [
                "#Dataset de treinamento\r\n",
                "animals_dataset = \"training_set\\\\\"\r\n",
                "\r\n",
                "#Definindo e separando imagens/labels de treino\r\n",
                "train_imagens, train_labels = select_data_set(animals_dataset)\r\n",
                "train_imagens = np.array(train_imagens)/255.0  ## Normalizando a imagem\r\n",
                "train_labels = np.array(train_labels)\r\n",
                "print(train_labels)\r\n",
                "lb = preprocessing.LabelBinarizer()\r\n",
                "train_labels = lb.fit_transform(train_labels)\r\n",
                "\r\n",
                "# viewData(imagens, labels)\r\n",
                "# plt.show()"
            ],
            "outputs": [
                {
                    "output_type": "stream",
                    "name": "stdout",
                    "text": [
                        "['bird' 'bird' 'bird' ... 'dogs' 'dogs' 'dogs']\n"
                    ]
                }
            ],
            "metadata": {}
        },
        {
            "cell_type": "code",
            "execution_count": 7,
            "source": [
                "animals_dataset = \"test_set\\\\\"\r\n",
                "test_imagens, test_labels = select_data_set(animals_dataset)\r\n",
                "test_imagens = np.array(test_imagens)/255.0  ## convertendo de lista para array\r\n",
                "test_labels = np.array(test_labels)\r\n",
                "lb = preprocessing.LabelBinarizer()\r\n",
                "test_labels = lb.fit_transform(test_labels)"
            ],
            "outputs": [],
            "metadata": {}
        },
        {
            "cell_type": "markdown",
            "source": [
                "Treinamento da rede"
            ],
            "metadata": {}
        },
        {
            "cell_type": "code",
            "execution_count": 8,
            "source": [
                "import tensorflow as tf\r\n",
                "from tensorflow import keras\r\n",
                "from keras.models import Sequential\r\n",
                "from keras.layers import Conv2D, MaxPooling2D, Dropout, Flatten, Dense, Activation, BatchNormalization"
            ],
            "outputs": [],
            "metadata": {}
        },
        {
            "cell_type": "code",
            "execution_count": 9,
            "source": [
                "model = Sequential()\r\n",
                "model.add(Conv2D(32, (3, 3), activation='relu', input_shape=(100,100,3)))\r\n",
                "model.add(BatchNormalization())\r\n",
                "model.add(MaxPooling2D(pool_size=(2, 2)))\r\n",
                "model.add(Dropout(0.2))\r\n",
                "\r\n",
                "model.add(Conv2D(64, (3, 3), activation='relu'))\r\n",
                "model.add(BatchNormalization())\r\n",
                "model.add(MaxPooling2D(pool_size=(2, 2)))\r\n",
                "model.add(Dropout(0.2))\r\n",
                "\r\n",
                "model.add(Conv2D(128, (3, 3), activation='relu'))\r\n",
                "model.add(BatchNormalization())\r\n",
                "model.add(MaxPooling2D(pool_size=(2, 2)))\r\n",
                "model.add(Dropout(0.2))\r\n",
                "\r\n",
                "model.add(Flatten())\r\n",
                "# model.add(Dense(512, activation='relu'))\r\n",
                "model.add(Dense(256, activation='relu'))\r\n",
                "model.add(BatchNormalization())\r\n",
                "model.add(Dropout(0.5))\r\n",
                "\r\n",
                "model.add(Dense(3, activation='softmax'))"
            ],
            "outputs": [],
            "metadata": {}
        },
        {
            "cell_type": "code",
            "execution_count": 10,
            "source": [
                "model.summary()"
            ],
            "outputs": [
                {
                    "output_type": "stream",
                    "name": "stdout",
                    "text": [
                        "Model: \"sequential\"\n",
                        "_________________________________________________________________\n",
                        "Layer (type)                 Output Shape              Param #   \n",
                        "=================================================================\n",
                        "conv2d (Conv2D)              (None, 98, 98, 32)        896       \n",
                        "_________________________________________________________________\n",
                        "batch_normalization (BatchNo (None, 98, 98, 32)        128       \n",
                        "_________________________________________________________________\n",
                        "max_pooling2d (MaxPooling2D) (None, 49, 49, 32)        0         \n",
                        "_________________________________________________________________\n",
                        "dropout (Dropout)            (None, 49, 49, 32)        0         \n",
                        "_________________________________________________________________\n",
                        "conv2d_1 (Conv2D)            (None, 47, 47, 64)        18496     \n",
                        "_________________________________________________________________\n",
                        "batch_normalization_1 (Batch (None, 47, 47, 64)        256       \n",
                        "_________________________________________________________________\n",
                        "max_pooling2d_1 (MaxPooling2 (None, 23, 23, 64)        0         \n",
                        "_________________________________________________________________\n",
                        "dropout_1 (Dropout)          (None, 23, 23, 64)        0         \n",
                        "_________________________________________________________________\n",
                        "conv2d_2 (Conv2D)            (None, 21, 21, 128)       73856     \n",
                        "_________________________________________________________________\n",
                        "batch_normalization_2 (Batch (None, 21, 21, 128)       512       \n",
                        "_________________________________________________________________\n",
                        "max_pooling2d_2 (MaxPooling2 (None, 10, 10, 128)       0         \n",
                        "_________________________________________________________________\n",
                        "dropout_2 (Dropout)          (None, 10, 10, 128)       0         \n",
                        "_________________________________________________________________\n",
                        "flatten (Flatten)            (None, 12800)             0         \n",
                        "_________________________________________________________________\n",
                        "dense (Dense)                (None, 256)               3277056   \n",
                        "_________________________________________________________________\n",
                        "batch_normalization_3 (Batch (None, 256)               1024      \n",
                        "_________________________________________________________________\n",
                        "dropout_3 (Dropout)          (None, 256)               0         \n",
                        "_________________________________________________________________\n",
                        "dense_1 (Dense)              (None, 3)                 771       \n",
                        "=================================================================\n",
                        "Total params: 3,372,995\n",
                        "Trainable params: 3,372,035\n",
                        "Non-trainable params: 960\n",
                        "_________________________________________________________________\n"
                    ]
                }
            ],
            "metadata": {}
        },
        {
            "cell_type": "code",
            "execution_count": 11,
            "source": [
                "model.compile(optimizer=\"adam\", loss='categorical_crossentropy', metrics=['acc'])"
            ],
            "outputs": [],
            "metadata": {}
        },
        {
            "cell_type": "code",
            "execution_count": 12,
            "source": [
                "from keras.callbacks import EarlyStopping, ReduceLROnPlateau"
            ],
            "outputs": [],
            "metadata": {}
        },
        {
            "cell_type": "code",
            "execution_count": 13,
            "source": [
                "learning_rate_reduction = ReduceLROnPlateau(monitor='val_loss', \r\n",
                "                                            patience=5, \r\n",
                "                                            verbose=1, \r\n",
                "                                            factor=0.5, \r\n",
                "                                            min_lr=0.00001)\r\n",
                "\r\n",
                "callbacks = [learning_rate_reduction]                                           "
            ],
            "outputs": [],
            "metadata": {}
        },
        {
            "cell_type": "code",
            "execution_count": 14,
            "source": [
                "history = model.fit(train_imagens, train_labels, epochs=50, callbacks=callbacks, validation_data=(test_imagens, test_labels))"
            ],
            "outputs": [
                {
                    "output_type": "stream",
                    "name": "stdout",
                    "text": [
                        "Epoch 1/50\n",
                        "353/353 [==============================] - 24s 41ms/step - loss: 0.9771 - acc: 0.6012 - val_loss: 1.5618 - val_acc: 0.4243\n",
                        "Epoch 2/50\n",
                        "353/353 [==============================] - 10s 28ms/step - loss: 0.6686 - acc: 0.7084 - val_loss: 0.7669 - val_acc: 0.6519\n",
                        "Epoch 3/50\n",
                        "353/353 [==============================] - 9s 26ms/step - loss: 0.5621 - acc: 0.7599 - val_loss: 0.7214 - val_acc: 0.6832\n",
                        "Epoch 4/50\n",
                        "353/353 [==============================] - 9s 26ms/step - loss: 0.4994 - acc: 0.7910 - val_loss: 0.5794 - val_acc: 0.7554\n",
                        "Epoch 5/50\n",
                        "353/353 [==============================] - 9s 26ms/step - loss: 0.4339 - acc: 0.8202 - val_loss: 0.5551 - val_acc: 0.7776\n",
                        "Epoch 6/50\n",
                        "353/353 [==============================] - 9s 26ms/step - loss: 0.3877 - acc: 0.8417 - val_loss: 0.8543 - val_acc: 0.6697\n",
                        "Epoch 7/50\n",
                        "353/353 [==============================] - 9s 26ms/step - loss: 0.3459 - acc: 0.8565 - val_loss: 0.6203 - val_acc: 0.7308\n",
                        "Epoch 8/50\n",
                        "353/353 [==============================] - 9s 26ms/step - loss: 0.2980 - acc: 0.8798 - val_loss: 0.6175 - val_acc: 0.7367\n",
                        "Epoch 9/50\n",
                        "353/353 [==============================] - 9s 26ms/step - loss: 0.2693 - acc: 0.8910 - val_loss: 0.6926 - val_acc: 0.7252\n",
                        "Epoch 10/50\n",
                        "353/353 [==============================] - 9s 26ms/step - loss: 0.2543 - acc: 0.9007 - val_loss: 0.6483 - val_acc: 0.7680\n",
                        "\n",
                        "Epoch 00010: ReduceLROnPlateau reducing learning rate to 0.0005000000237487257.\n",
                        "Epoch 11/50\n",
                        "353/353 [==============================] - 9s 26ms/step - loss: 0.1720 - acc: 0.9344 - val_loss: 0.4974 - val_acc: 0.8220\n",
                        "Epoch 12/50\n",
                        "353/353 [==============================] - 9s 26ms/step - loss: 0.1413 - acc: 0.9474 - val_loss: 0.5130 - val_acc: 0.8196\n",
                        "Epoch 13/50\n",
                        "353/353 [==============================] - 9s 26ms/step - loss: 0.1160 - acc: 0.9573 - val_loss: 0.6524 - val_acc: 0.7823\n",
                        "Epoch 14/50\n",
                        "353/353 [==============================] - 9s 25ms/step - loss: 0.1029 - acc: 0.9628 - val_loss: 0.7878 - val_acc: 0.7331\n",
                        "Epoch 15/50\n",
                        "353/353 [==============================] - 9s 25ms/step - loss: 0.1214 - acc: 0.9535 - val_loss: 0.6348 - val_acc: 0.8073\n",
                        "Epoch 16/50\n",
                        "353/353 [==============================] - 9s 25ms/step - loss: 0.0969 - acc: 0.9648 - val_loss: 0.5563 - val_acc: 0.8216\n",
                        "\n",
                        "Epoch 00016: ReduceLROnPlateau reducing learning rate to 0.0002500000118743628.\n",
                        "Epoch 17/50\n",
                        "353/353 [==============================] - 9s 25ms/step - loss: 0.0687 - acc: 0.9763 - val_loss: 0.5018 - val_acc: 0.8501\n",
                        "Epoch 18/50\n",
                        "353/353 [==============================] - 9s 25ms/step - loss: 0.0559 - acc: 0.9814 - val_loss: 0.4987 - val_acc: 0.8454\n",
                        "Epoch 19/50\n",
                        "353/353 [==============================] - 9s 25ms/step - loss: 0.0541 - acc: 0.9816 - val_loss: 0.5077 - val_acc: 0.8454\n",
                        "Epoch 20/50\n",
                        "353/353 [==============================] - 9s 25ms/step - loss: 0.0536 - acc: 0.9834 - val_loss: 0.5849 - val_acc: 0.8236\n",
                        "Epoch 21/50\n",
                        "353/353 [==============================] - 9s 25ms/step - loss: 0.0458 - acc: 0.9845 - val_loss: 0.6162 - val_acc: 0.8327\n",
                        "\n",
                        "Epoch 00021: ReduceLROnPlateau reducing learning rate to 0.0001250000059371814.\n",
                        "Epoch 22/50\n",
                        "353/353 [==============================] - 9s 25ms/step - loss: 0.0398 - acc: 0.9865 - val_loss: 0.5141 - val_acc: 0.8509\n",
                        "Epoch 23/50\n",
                        "353/353 [==============================] - 9s 25ms/step - loss: 0.0347 - acc: 0.9891 - val_loss: 0.5065 - val_acc: 0.8481\n",
                        "Epoch 24/50\n",
                        "353/353 [==============================] - 9s 25ms/step - loss: 0.0307 - acc: 0.9919 - val_loss: 0.5341 - val_acc: 0.8628\n",
                        "Epoch 25/50\n",
                        "353/353 [==============================] - 9s 25ms/step - loss: 0.0327 - acc: 0.9885 - val_loss: 0.5196 - val_acc: 0.8632\n",
                        "Epoch 26/50\n",
                        "353/353 [==============================] - 9s 25ms/step - loss: 0.0347 - acc: 0.9880 - val_loss: 0.5618 - val_acc: 0.8640\n",
                        "\n",
                        "Epoch 00026: ReduceLROnPlateau reducing learning rate to 6.25000029685907e-05.\n",
                        "Epoch 27/50\n",
                        "353/353 [==============================] - 9s 25ms/step - loss: 0.0308 - acc: 0.9895 - val_loss: 0.5368 - val_acc: 0.8569\n",
                        "Epoch 28/50\n",
                        "353/353 [==============================] - 9s 25ms/step - loss: 0.0301 - acc: 0.9891 - val_loss: 0.5650 - val_acc: 0.8584\n",
                        "Epoch 29/50\n",
                        "353/353 [==============================] - 9s 25ms/step - loss: 0.0280 - acc: 0.9905 - val_loss: 0.5744 - val_acc: 0.8580\n",
                        "Epoch 30/50\n",
                        "353/353 [==============================] - 9s 25ms/step - loss: 0.0272 - acc: 0.9913 - val_loss: 0.5473 - val_acc: 0.8513\n",
                        "Epoch 31/50\n",
                        "353/353 [==============================] - 9s 25ms/step - loss: 0.0231 - acc: 0.9927 - val_loss: 0.5400 - val_acc: 0.8608\n",
                        "\n",
                        "Epoch 00031: ReduceLROnPlateau reducing learning rate to 3.125000148429535e-05.\n",
                        "Epoch 32/50\n",
                        "353/353 [==============================] - 9s 25ms/step - loss: 0.0269 - acc: 0.9918 - val_loss: 0.5512 - val_acc: 0.8592\n",
                        "Epoch 33/50\n",
                        "353/353 [==============================] - 9s 25ms/step - loss: 0.0233 - acc: 0.9929 - val_loss: 0.5368 - val_acc: 0.8608\n",
                        "Epoch 34/50\n",
                        "353/353 [==============================] - 9s 25ms/step - loss: 0.0230 - acc: 0.9923 - val_loss: 0.5467 - val_acc: 0.8600\n",
                        "Epoch 35/50\n",
                        "353/353 [==============================] - 9s 25ms/step - loss: 0.0238 - acc: 0.9933 - val_loss: 0.5461 - val_acc: 0.8632\n",
                        "Epoch 36/50\n",
                        "353/353 [==============================] - 9s 25ms/step - loss: 0.0209 - acc: 0.9942 - val_loss: 0.5537 - val_acc: 0.8600\n",
                        "\n",
                        "Epoch 00036: ReduceLROnPlateau reducing learning rate to 1.5625000742147677e-05.\n",
                        "Epoch 37/50\n",
                        "353/353 [==============================] - 9s 25ms/step - loss: 0.0251 - acc: 0.9915 - val_loss: 0.5372 - val_acc: 0.8620\n",
                        "Epoch 38/50\n",
                        "353/353 [==============================] - 9s 25ms/step - loss: 0.0217 - acc: 0.9937 - val_loss: 0.5410 - val_acc: 0.8604\n",
                        "Epoch 39/50\n",
                        "353/353 [==============================] - 9s 25ms/step - loss: 0.0227 - acc: 0.9929 - val_loss: 0.5450 - val_acc: 0.8596\n",
                        "Epoch 40/50\n",
                        "353/353 [==============================] - 9s 25ms/step - loss: 0.0198 - acc: 0.9942 - val_loss: 0.5412 - val_acc: 0.8644\n",
                        "Epoch 41/50\n",
                        "353/353 [==============================] - 9s 25ms/step - loss: 0.0203 - acc: 0.9944 - val_loss: 0.5478 - val_acc: 0.8632\n",
                        "\n",
                        "Epoch 00041: ReduceLROnPlateau reducing learning rate to 1e-05.\n",
                        "Epoch 42/50\n",
                        "353/353 [==============================] - 9s 25ms/step - loss: 0.0216 - acc: 0.9929 - val_loss: 0.5377 - val_acc: 0.8616\n",
                        "Epoch 43/50\n",
                        "353/353 [==============================] - 9s 25ms/step - loss: 0.0205 - acc: 0.9937 - val_loss: 0.5514 - val_acc: 0.8624\n",
                        "Epoch 44/50\n",
                        "353/353 [==============================] - 9s 25ms/step - loss: 0.0190 - acc: 0.9947 - val_loss: 0.5456 - val_acc: 0.8648\n",
                        "Epoch 45/50\n",
                        "353/353 [==============================] - 9s 25ms/step - loss: 0.0198 - acc: 0.9947 - val_loss: 0.5508 - val_acc: 0.8580\n",
                        "Epoch 46/50\n",
                        "353/353 [==============================] - 9s 25ms/step - loss: 0.0184 - acc: 0.9948 - val_loss: 0.5574 - val_acc: 0.8620\n",
                        "Epoch 47/50\n",
                        "353/353 [==============================] - 9s 25ms/step - loss: 0.0196 - acc: 0.9934 - val_loss: 0.5471 - val_acc: 0.8632\n",
                        "Epoch 48/50\n",
                        "353/353 [==============================] - 9s 25ms/step - loss: 0.0232 - acc: 0.9933 - val_loss: 0.5489 - val_acc: 0.8632\n",
                        "Epoch 49/50\n",
                        "353/353 [==============================] - 9s 25ms/step - loss: 0.0190 - acc: 0.9945 - val_loss: 0.5556 - val_acc: 0.8624\n",
                        "Epoch 50/50\n",
                        "353/353 [==============================] - 9s 25ms/step - loss: 0.0188 - acc: 0.9943 - val_loss: 0.5566 - val_acc: 0.8620\n"
                    ]
                }
            ],
            "metadata": {}
        },
        {
            "cell_type": "code",
            "execution_count": 15,
            "source": [
                "# i=0\r\n",
                "predictions = model.predict(test_imagens)\r\n",
                "# print(predictions)\r\n",
                "rounded_predictions = np.argmax(predictions, axis=1)\r\n",
                "# for i in rounded_predictions:\r\n",
                "#   print(i)\r\n",
                "rounded_test_labels = np.argmax(test_labels, axis=1)"
            ],
            "outputs": [],
            "metadata": {}
        },
        {
            "cell_type": "code",
            "execution_count": 16,
            "source": [
                "from sklearn.metrics import confusion_matrix, accuracy_score"
            ],
            "outputs": [],
            "metadata": {}
        },
        {
            "cell_type": "code",
            "execution_count": 18,
            "source": [
                "cm = confusion_matrix(y_true=rounded_test_labels, y_pred=rounded_predictions)\r\n",
                "print(cm)\r\n",
                "accuracy = accuracy_score(rounded_test_labels, rounded_predictions)\r\n",
                "print(f\"{accuracy*100.0:.2f} %\")"
            ],
            "outputs": [
                {
                    "output_type": "stream",
                    "name": "stdout",
                    "text": [
                        "[[460  13  26]\n",
                        " [ 11 904  96]\n",
                        " [ 30 172 810]]\n",
                        "86.20 %\n"
                    ]
                }
            ],
            "metadata": {}
        },
        {
            "cell_type": "code",
            "execution_count": 19,
            "source": [
                "from matplotlib import pyplot as plt"
            ],
            "outputs": [],
            "metadata": {}
        },
        {
            "cell_type": "code",
            "execution_count": 20,
            "source": [
                "plt.plot(history.history['acc'])\r\n",
                "plt.plot(history.history['val_acc'])\r\n",
                "plt.title('model accuracy')\r\n",
                "plt.ylabel('accuracy')\r\n",
                "plt.xlabel('epoch')\r\n",
                "plt.legend(['train', 'test'], loc='upper left')\r\n",
                "plt.show()\r\n",
                "\r\n",
                "plt.plot(history.history['loss'])\r\n",
                "plt.plot(history.history['val_loss'])\r\n",
                "plt.title('model loss')\r\n",
                "plt.ylabel('loss')\r\n",
                "plt.xlabel('epoch')\r\n",
                "plt.legend(['train', 'test'], loc='upper left')\r\n",
                "plt.show()"
            ],
            "outputs": [
                {
                    "output_type": "display_data",
                    "data": {
                        "image/png": "[encoded data removed]",
                        "text/plain": [
                            "<Figure size 432x288 with 1 Axes>"
                        ]
                    },
                    "metadata": {
                        "needs_background": "light"
                    }
                },
                {
                    "output_type": "display_data",
                    "data": {
                        "image/png": "[encoded data removed]",
                        "text/plain": [
                            "<Figure size 432x288 with 1 Axes>"
                        ]
                    },
                    "metadata": {
                        "needs_background": "light"
                    }
                }
            ],
            "metadata": {}
        }
    ],
    "metadata": {
        "orig_nbformat": 4,
        "language_info": {
            "name": "python",
            "version": "3.9.4",
            "mimetype": "text/x-python",
            "codemirror_mode": {
                "name": "ipython",
                "version": 3
            },
            "pygments_lexer": "ipython3",
            "nbconvert_exporter": "python",
            "file_extension": ".py"
        },
        "kernelspec": {
            "name": "python3",
            "display_name": "Python 3.9.4 64-bit"
        },
        "interpreter": {
            "hash": "b2a6f09527545e370935e82da67d9200a6ba8ae5f29d2a729dc4524a539d679f"
        }
    },
    "nbformat": 4,
    "nbformat_minor": 2
}