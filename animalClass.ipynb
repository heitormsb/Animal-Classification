{
    "cells": [
        {
            "cell_type": "code",
            "execution_count": 1,
            "source": [
                "from os import listdir\r\n",
                "from os.path import isdir\r\n",
                "from PIL import Image\r\n",
                "import numpy as np\r\n",
                "import matplotlib.pyplot as plt\r\n",
                "import matplotlib.image as mpimg\r\n",
                "from sklearn import preprocessing"
            ],
            "outputs": [],
            "metadata": {}
        },
        {
            "cell_type": "markdown",
            "source": [
                "Tratamento de dados"
            ],
            "metadata": {}
        },
        {
            "cell_type": "code",
            "execution_count": 2,
            "source": [
                "def select_image(path):\r\n",
                "  image = Image.open(path)\r\n",
                "  image = image.convert(\"RGB\")\r\n",
                "  image = image.resize((100,100))\r\n",
                "  # print(path)\r\n",
                "  return np.asarray(image) #Transforma imagem em um array"
            ],
            "outputs": [],
            "metadata": {}
        },
        {
            "cell_type": "code",
            "execution_count": 3,
            "source": [
                "def load_classes(diretorio, classe, imagens, labels):\r\n",
                "\r\n",
                "  #Listar todo os arquivos dentro do diretorio(ex.\"training_set\\\\cats\")\r\n",
                "  for filename in listdir(diretorio): \r\n",
                "    path = diretorio + filename\r\n",
                "    # print(path)\r\n",
                "\r\n",
                "    try:\r\n",
                "      imagens.append(select_image(path)) #Normalizar a imagem e juntar na Lista\r\n",
                "      labels.append(classe)\r\n",
                "    except:\r\n",
                "      print(f\"!!!Nao foi possivel carregar a imagem {path}!!!\")\r\n",
                "      \r\n",
                "  return imagens, labels"
            ],
            "outputs": [],
            "metadata": {}
        },
        {
            "cell_type": "code",
            "execution_count": 4,
            "source": [
                "def select_data_set(diretorio):\r\n",
                "\r\n",
                "  imagens = list()\r\n",
                "  labels = list()\r\n",
                "\r\n",
                "  #listar por subdiretorios dentro de diretorio(ex.\"training_set\\\\\")\r\n",
                "  for subdir in listdir(diretorio):\r\n",
                "    path = diretorio + subdir + '\\\\' \r\n",
                "    if not isdir(path):\r\n",
                "      print(f\"{path} is not directory\")\r\n",
                "      continue\r\n",
                "\r\n",
                "    imagens, labels = load_classes(path, subdir, imagens, labels) #Carregar classes de determinada pasta\r\n",
                "  \r\n",
                "\r\n",
                "  return imagens, labels\r\n"
            ],
            "outputs": [],
            "metadata": {}
        },
        {
            "cell_type": "code",
            "execution_count": 5,
            "source": [
                "def viewData(imagens, labels):\r\n",
                "\r\n",
                "  plt.figure(figsize=(10,10))\r\n",
                "  grid_size = min(250, len(imagens))\r\n",
                "\r\n",
                "  for i in range(grid_size):\r\n",
                "\r\n",
                "    plt.subplot(50, 5, i+1)\r\n",
                "    plt.xticks([])\r\n",
                "    plt.yticks([])\r\n",
                "    plt.grid(False)\r\n",
                "    plt.imshow(imagens[i*20], cmap=plt.cm.binary)\r\n",
                "    plt.xlabel(labels[i*20])"
            ],
            "outputs": [],
            "metadata": {}
        },
        {
            "cell_type": "markdown",
            "source": [
                "Carregar dataset e labels"
            ],
            "metadata": {}
        },
        {
            "cell_type": "code",
            "execution_count": 6,
            "source": [
                "#Dataset de treinamento\r\n",
                "animals_dataset = \"training_set\\\\\"\r\n",
                "\r\n",
                "#Definindo e separando imagens/labels de treino\r\n",
                "train_imagens, train_labels = select_data_set(animals_dataset)\r\n",
                "train_imagens = np.array(train_imagens)/255.0  ## Normalizando a imagem\r\n",
                "train_labels = np.array(train_labels)\r\n",
                "print(train_labels)\r\n",
                "lb = preprocessing.LabelBinarizer()\r\n",
                "train_labels = lb.fit_transform(train_labels)\r\n",
                "\r\n",
                "# viewData(imagens, labels)\r\n",
                "# plt.show()"
            ],
            "outputs": [
                {
                    "output_type": "stream",
                    "name": "stdout",
                    "text": [
                        "['bird' 'bird' 'bird' ... 'dogs' 'dogs' 'dogs']\n"
                    ]
                }
            ],
            "metadata": {}
        },
        {
            "cell_type": "code",
            "execution_count": 7,
            "source": [
                "animals_dataset = \"test_set\\\\\"\r\n",
                "test_imagens, test_labels = select_data_set(animals_dataset)\r\n",
                "test_imagens = np.array(test_imagens)/255.0  ## convertendo de lista para array\r\n",
                "test_labels = np.array(test_labels)\r\n",
                "lb = preprocessing.LabelBinarizer()\r\n",
                "test_labels = lb.fit_transform(test_labels)"
            ],
            "outputs": [],
            "metadata": {}
        },
        {
            "cell_type": "markdown",
            "source": [
                "Treinamento da rede"
            ],
            "metadata": {}
        },
        {
            "cell_type": "code",
            "execution_count": 8,
            "source": [
                "import tensorflow as tf\r\n",
                "from tensorflow import keras\r\n",
                "from keras.models import Sequential\r\n",
                "from keras.layers import Conv2D, MaxPooling2D, Dropout, Flatten, Dense, Activation, BatchNormalization"
            ],
            "outputs": [],
            "metadata": {}
        },
        {
            "cell_type": "code",
            "execution_count": 9,
            "source": [
                "model = Sequential()\r\n",
                "model.add(Conv2D(32, (3, 3), activation='relu', input_shape=(100,100,3)))\r\n",
                "model.add(BatchNormalization())\r\n",
                "model.add(MaxPooling2D(pool_size=(2, 2)))\r\n",
                "model.add(Dropout(0.2))\r\n",
                "\r\n",
                "model.add(Conv2D(64, (3, 3), activation='relu'))\r\n",
                "model.add(BatchNormalization())\r\n",
                "model.add(MaxPooling2D(pool_size=(2, 2)))\r\n",
                "model.add(Dropout(0.2))\r\n",
                "\r\n",
                "model.add(Conv2D(128, (3, 3), activation='relu'))\r\n",
                "model.add(BatchNormalization())\r\n",
                "model.add(MaxPooling2D(pool_size=(2, 2)))\r\n",
                "model.add(Dropout(0.2))\r\n",
                "\r\n",
                "model.add(Flatten())\r\n",
                "# model.add(Dense(512, activation='relu'))\r\n",
                "model.add(Dense(256, activation='relu'))\r\n",
                "model.add(BatchNormalization())\r\n",
                "model.add(Dropout(0.5))\r\n",
                "\r\n",
                "model.add(Dense(3, activation='softmax'))"
            ],
            "outputs": [],
            "metadata": {}
        },
        {
            "cell_type": "code",
            "execution_count": 10,
            "source": [
                "model.summary()"
            ],
            "outputs": [
                {
                    "output_type": "stream",
                    "name": "stdout",
                    "text": [
                        "Model: \"sequential\"\n",
                        "_________________________________________________________________\n",
                        "Layer (type)                 Output Shape              Param #   \n",
                        "=================================================================\n",
                        "conv2d (Conv2D)              (None, 98, 98, 32)        896       \n",
                        "_________________________________________________________________\n",
                        "batch_normalization (BatchNo (None, 98, 98, 32)        128       \n",
                        "_________________________________________________________________\n",
                        "max_pooling2d (MaxPooling2D) (None, 49, 49, 32)        0         \n",
                        "_________________________________________________________________\n",
                        "dropout (Dropout)            (None, 49, 49, 32)        0         \n",
                        "_________________________________________________________________\n",
                        "conv2d_1 (Conv2D)            (None, 47, 47, 64)        18496     \n",
                        "_________________________________________________________________\n",
                        "batch_normalization_1 (Batch (None, 47, 47, 64)        256       \n",
                        "_________________________________________________________________\n",
                        "max_pooling2d_1 (MaxPooling2 (None, 23, 23, 64)        0         \n",
                        "_________________________________________________________________\n",
                        "dropout_1 (Dropout)          (None, 23, 23, 64)        0         \n",
                        "_________________________________________________________________\n",
                        "conv2d_2 (Conv2D)            (None, 21, 21, 128)       73856     \n",
                        "_________________________________________________________________\n",
                        "batch_normalization_2 (Batch (None, 21, 21, 128)       512       \n",
                        "_________________________________________________________________\n",
                        "max_pooling2d_2 (MaxPooling2 (None, 10, 10, 128)       0         \n",
                        "_________________________________________________________________\n",
                        "dropout_2 (Dropout)          (None, 10, 10, 128)       0         \n",
                        "_________________________________________________________________\n",
                        "flatten (Flatten)            (None, 12800)             0         \n",
                        "_________________________________________________________________\n",
                        "dense (Dense)                (None, 256)               3277056   \n",
                        "_________________________________________________________________\n",
                        "batch_normalization_3 (Batch (None, 256)               1024      \n",
                        "_________________________________________________________________\n",
                        "dropout_3 (Dropout)          (None, 256)               0         \n",
                        "_________________________________________________________________\n",
                        "dense_1 (Dense)              (None, 3)                 771       \n",
                        "=================================================================\n",
                        "Total params: 3,372,995\n",
                        "Trainable params: 3,372,035\n",
                        "Non-trainable params: 960\n",
                        "_________________________________________________________________\n"
                    ]
                }
            ],
            "metadata": {}
        },
        {
            "cell_type": "code",
            "execution_count": 11,
            "source": [
                "model.compile(optimizer=\"adam\", loss='categorical_crossentropy', metrics=['acc'])"
            ],
            "outputs": [],
            "metadata": {}
        },
        {
            "cell_type": "code",
            "execution_count": 12,
            "source": [
                "from keras.callbacks import EarlyStopping, ReduceLROnPlateau"
            ],
            "outputs": [],
            "metadata": {}
        },
        {
            "cell_type": "code",
            "execution_count": 13,
            "source": [
                "learning_rate_reduction = ReduceLROnPlateau(monitor='val_loss', \r\n",
                "                                            patience=5, \r\n",
                "                                            verbose=1, \r\n",
                "                                            factor=0.5, \r\n",
                "                                            min_lr=0.00001)\r\n",
                "\r\n",
                "callbacks = [learning_rate_reduction]                                           "
            ],
            "outputs": [],
            "metadata": {}
        },
        {
            "cell_type": "code",
            "execution_count": 42,
            "source": [
                "history = model.fit(train_imagens, train_labels, epochs=30, callbacks=callbacks, validation_data=(test_imagens, test_labels))"
            ],
            "outputs": [
                {
                    "output_type": "stream",
                    "name": "stdout",
                    "text": [
                        "Epoch 1/30\n",
                        "353/353 [==============================] - 13s 34ms/step - loss: 0.0246 - acc: 0.9918 - val_loss: 0.5773 - val_acc: 0.8462\n",
                        "Epoch 2/30\n",
                        "353/353 [==============================] - 9s 25ms/step - loss: 0.0240 - acc: 0.9913 - val_loss: 0.6031 - val_acc: 0.8493\n",
                        "Epoch 3/30\n",
                        "353/353 [==============================] - 9s 25ms/step - loss: 0.0239 - acc: 0.9924 - val_loss: 0.5963 - val_acc: 0.8525\n",
                        "Epoch 4/30\n",
                        "353/353 [==============================] - 9s 25ms/step - loss: 0.0213 - acc: 0.9933 - val_loss: 0.5715 - val_acc: 0.8557\n",
                        "Epoch 5/30\n",
                        "353/353 [==============================] - 9s 25ms/step - loss: 0.0231 - acc: 0.9920 - val_loss: 0.6261 - val_acc: 0.8458\n",
                        "Epoch 6/30\n",
                        "353/353 [==============================] - 9s 25ms/step - loss: 0.0224 - acc: 0.9920 - val_loss: 0.6155 - val_acc: 0.8509\n",
                        "Epoch 7/30\n",
                        "353/353 [==============================] - 9s 25ms/step - loss: 0.0209 - acc: 0.9925 - val_loss: 0.5681 - val_acc: 0.8541\n",
                        "Epoch 8/30\n",
                        "353/353 [==============================] - 9s 25ms/step - loss: 0.0213 - acc: 0.9926 - val_loss: 0.5820 - val_acc: 0.8466\n",
                        "Epoch 9/30\n",
                        "353/353 [==============================] - 9s 25ms/step - loss: 0.0192 - acc: 0.9933 - val_loss: 0.6178 - val_acc: 0.8497\n",
                        "Epoch 10/30\n",
                        "353/353 [==============================] - 9s 25ms/step - loss: 0.0185 - acc: 0.9941 - val_loss: 0.5728 - val_acc: 0.8565\n",
                        "Epoch 11/30\n",
                        "353/353 [==============================] - 9s 25ms/step - loss: 0.0165 - acc: 0.9950 - val_loss: 0.5929 - val_acc: 0.8596\n",
                        "Epoch 12/30\n",
                        "353/353 [==============================] - 9s 25ms/step - loss: 0.0215 - acc: 0.9934 - val_loss: 0.5759 - val_acc: 0.8573\n",
                        "\n",
                        "Epoch 00012: ReduceLROnPlateau reducing learning rate to 6.25000029685907e-05.\n",
                        "Epoch 13/30\n",
                        "353/353 [==============================] - 9s 25ms/step - loss: 0.0182 - acc: 0.9937 - val_loss: 0.5942 - val_acc: 0.8584\n",
                        "Epoch 14/30\n",
                        "353/353 [==============================] - 9s 26ms/step - loss: 0.0171 - acc: 0.9942 - val_loss: 0.5890 - val_acc: 0.8592\n",
                        "Epoch 15/30\n",
                        "353/353 [==============================] - 9s 26ms/step - loss: 0.0217 - acc: 0.9923 - val_loss: 0.5732 - val_acc: 0.8553\n",
                        "Epoch 16/30\n",
                        "353/353 [==============================] - 9s 26ms/step - loss: 0.0162 - acc: 0.9953 - val_loss: 0.5737 - val_acc: 0.8541\n",
                        "Epoch 17/30\n",
                        "353/353 [==============================] - 9s 25ms/step - loss: 0.0142 - acc: 0.9957 - val_loss: 0.5757 - val_acc: 0.8580\n",
                        "\n",
                        "Epoch 00017: ReduceLROnPlateau reducing learning rate to 3.125000148429535e-05.\n",
                        "Epoch 18/30\n",
                        "353/353 [==============================] - 9s 25ms/step - loss: 0.0132 - acc: 0.9949 - val_loss: 0.5743 - val_acc: 0.8596\n",
                        "Epoch 19/30\n",
                        "353/353 [==============================] - 9s 25ms/step - loss: 0.0153 - acc: 0.9957 - val_loss: 0.5722 - val_acc: 0.8573\n",
                        "Epoch 20/30\n",
                        "353/353 [==============================] - 9s 25ms/step - loss: 0.0149 - acc: 0.9953 - val_loss: 0.5769 - val_acc: 0.8584\n",
                        "Epoch 21/30\n",
                        "353/353 [==============================] - 9s 25ms/step - loss: 0.0161 - acc: 0.9950 - val_loss: 0.5868 - val_acc: 0.8569\n",
                        "Epoch 22/30\n",
                        "353/353 [==============================] - 9s 25ms/step - loss: 0.0153 - acc: 0.9955 - val_loss: 0.5749 - val_acc: 0.8561\n",
                        "\n",
                        "Epoch 00022: ReduceLROnPlateau reducing learning rate to 1.5625000742147677e-05.\n",
                        "Epoch 23/30\n",
                        "353/353 [==============================] - 9s 26ms/step - loss: 0.0113 - acc: 0.9964 - val_loss: 0.5889 - val_acc: 0.8565\n",
                        "Epoch 24/30\n",
                        "353/353 [==============================] - 9s 26ms/step - loss: 0.0123 - acc: 0.9965 - val_loss: 0.5743 - val_acc: 0.8592\n",
                        "Epoch 25/30\n",
                        "353/353 [==============================] - 9s 26ms/step - loss: 0.0121 - acc: 0.9965 - val_loss: 0.5813 - val_acc: 0.8612\n",
                        "Epoch 26/30\n",
                        "353/353 [==============================] - 9s 25ms/step - loss: 0.0160 - acc: 0.9951 - val_loss: 0.5843 - val_acc: 0.8588\n",
                        "Epoch 27/30\n",
                        "353/353 [==============================] - 9s 27ms/step - loss: 0.0123 - acc: 0.9964 - val_loss: 0.5889 - val_acc: 0.8580\n",
                        "\n",
                        "Epoch 00027: ReduceLROnPlateau reducing learning rate to 1e-05.\n",
                        "Epoch 28/30\n",
                        "353/353 [==============================] - 10s 28ms/step - loss: 0.0132 - acc: 0.9959 - val_loss: 0.5869 - val_acc: 0.8573\n",
                        "Epoch 29/30\n",
                        "353/353 [==============================] - 10s 28ms/step - loss: 0.0133 - acc: 0.9961 - val_loss: 0.5807 - val_acc: 0.8569\n",
                        "Epoch 30/30\n",
                        "353/353 [==============================] - 10s 27ms/step - loss: 0.0139 - acc: 0.9954 - val_loss: 0.5824 - val_acc: 0.8580\n"
                    ]
                }
            ],
            "metadata": {}
        },
        {
            "cell_type": "code",
            "execution_count": 43,
            "source": [
                "# i=0\r\n",
                "predictions = model.predict(test_imagens)\r\n",
                "# print(predictions)\r\n",
                "rounded_predictions = np.argmax(predictions, axis=1)\r\n",
                "# for i in rounded_predictions:\r\n",
                "#   print(i)\r\n",
                "rounded_test_labels = np.argmax(test_labels, axis=1)\r\n",
                "print(rounded_test_labels)"
            ],
            "outputs": [
                {
                    "output_type": "stream",
                    "name": "stdout",
                    "text": [
                        "[0 0 0 ... 2 2 2]\n"
                    ]
                }
            ],
            "metadata": {}
        },
        {
            "cell_type": "code",
            "execution_count": 44,
            "source": [
                "print(rounded_test_labels)\r\n",
                "print(rounded_predictions)"
            ],
            "outputs": [
                {
                    "output_type": "stream",
                    "name": "stdout",
                    "text": [
                        "[0 0 0 ... 2 2 2]\n",
                        "[0 0 0 ... 1 1 2]\n"
                    ]
                }
            ],
            "metadata": {}
        },
        {
            "cell_type": "code",
            "execution_count": 45,
            "source": [
                "from sklearn.metrics import confusion_matrix, accuracy_score"
            ],
            "outputs": [],
            "metadata": {}
        },
        {
            "cell_type": "code",
            "execution_count": 46,
            "source": [
                "cm = confusion_matrix(y_true=rounded_test_labels, y_pred=rounded_predictions)\r\n",
                "print(cm)\r\n",
                "accuracy = accuracy_score(rounded_test_labels, rounded_predictions)\r\n",
                "print(accuracy*100.0)"
            ],
            "outputs": [
                {
                    "output_type": "stream",
                    "name": "stdout",
                    "text": [
                        "[[451  12  36]\n",
                        " [ 12 891 108]\n",
                        " [ 21 169 822]]\n",
                        "85.80491673275178\n"
                    ]
                }
            ],
            "metadata": {}
        },
        {
            "cell_type": "code",
            "execution_count": 47,
            "source": [
                "from matplotlib import pyplot as plt"
            ],
            "outputs": [],
            "metadata": {}
        },
        {
            "cell_type": "code",
            "execution_count": 48,
            "source": [
                "plt.plot(history.history['acc'])\r\n",
                "plt.plot(history.history['val_acc'])\r\n",
                "plt.title('model accuracy')\r\n",
                "plt.ylabel('accuracy')\r\n",
                "plt.xlabel('epoch')\r\n",
                "plt.legend(['train', 'test'], loc='upper left')\r\n",
                "plt.show()\r\n",
                "\r\n",
                "plt.plot(history.history['loss'])\r\n",
                "plt.plot(history.history['val_loss'])\r\n",
                "plt.title('model loss')\r\n",
                "plt.ylabel('loss')\r\n",
                "plt.xlabel('epoch')\r\n",
                "plt.legend(['train', 'test'], loc='upper left')\r\n",
                "plt.show()"
            ],
            "outputs": [
                {
                    "output_type": "display_data",
                    "data": {
                        "image/png": "[encoded data removed]",
                        "text/plain": [
                            "<Figure size 432x288 with 1 Axes>"
                        ]
                    },
                    "metadata": {
                        "needs_background": "light"
                    }
                },
                {
                    "output_type": "display_data",
                    "data": {
                        "image/png": "[encoded data removed]",
                        "text/plain": [
                            "<Figure size 432x288 with 1 Axes>"
                        ]
                    },
                    "metadata": {
                        "needs_background": "light"
                    }
                }
            ],
            "metadata": {}
        }
    ],
    "metadata": {
        "orig_nbformat": 4,
        "language_info": {
            "name": "python",
            "version": "3.9.4",
            "mimetype": "text/x-python",
            "codemirror_mode": {
                "name": "ipython",
                "version": 3
            },
            "pygments_lexer": "ipython3",
            "nbconvert_exporter": "python",
            "file_extension": ".py"
        },
        "kernelspec": {
            "name": "python3",
            "display_name": "Python 3.9.4 64-bit"
        },
        "interpreter": {
            "hash": "b2a6f09527545e370935e82da67d9200a6ba8ae5f29d2a729dc4524a539d679f"
        }
    },
    "nbformat": 4,
    "nbformat_minor": 2
}